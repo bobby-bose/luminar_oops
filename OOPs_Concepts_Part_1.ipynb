{
  "nbformat": 4,
  "nbformat_minor": 0,
  "metadata": {
    "colab": {
      "name": "OOPs Concepts Part-1.ipynb",
      "provenance": [],
      "authorship_tag": "ABX9TyO+F07WuflGCKuLBtOyqIJ4",
      "include_colab_link": true
    },
    "kernelspec": {
      "name": "python3",
      "display_name": "Python 3"
    },
    "language_info": {
      "name": "python"
    }
  },
  "cells": [
    {
      "cell_type": "markdown",
      "metadata": {
        "id": "view-in-github",
        "colab_type": "text"
      },
      "source": [
        "<a href=\"https://colab.research.google.com/github/bobby-bose/luminar_oops/blob/main/OOPs_Concepts_Part_1.ipynb\" target=\"_parent\"><img src=\"https://colab.research.google.com/assets/colab-badge.svg\" alt=\"Open In Colab\"/></a>"
      ]
    },
    {
      "cell_type": "markdown",
      "source": [
        "***Inheritance in Python***"
      ],
      "metadata": {
        "id": "ADvOgYpxzpGy"
      }
    },
    {
      "cell_type": "code",
      "execution_count": 1,
      "metadata": {
        "colab": {
          "base_uri": "https://localhost:8080/"
        },
        "id": "7oBTLUQwzatl",
        "outputId": "b691c891-2af9-486f-d283-d3e297915b29"
      },
      "outputs": [
        {
          "output_type": "stream",
          "name": "stdout",
          "text": [
            "this is function one\n",
            " this is function 2 \n"
          ]
        }
      ],
      "source": [
        "class Parent:\n",
        "     def func1(self):\n",
        "          print(\"this is function one\")\n",
        "class Child(Parent):\n",
        "     def func2(self):\n",
        "          print(\" this is function 2 \")\n",
        "ob = Child()\n",
        "ob.func1()\n",
        "ob.func2()"
      ]
    },
    {
      "cell_type": "markdown",
      "source": [
        "***ABove is the Single Inheritance and below is the Multiple Inheritance***"
      ],
      "metadata": {
        "id": "9BzaJQZI0F4C"
      }
    },
    {
      "cell_type": "code",
      "source": [
        "class Parent:\n",
        "   def func1(self):\n",
        "        print(\"this is function 1\")\n",
        "class Parent2:\n",
        "   def func2(self):\n",
        "        print(\"this is function 2\")\n",
        "class Child(Parent , Parent2):\n",
        "    def func3(self):\n",
        "        print(\"this is function 3\")\n",
        " \n",
        "ob = Child()\n",
        "ob.func1()\n",
        "ob.func2()\n",
        "ob.func3()"
      ],
      "metadata": {
        "colab": {
          "base_uri": "https://localhost:8080/"
        },
        "id": "fG89TeKL0FI2",
        "outputId": "bb24b15d-128f-402d-f215-5d8404e628d3"
      },
      "execution_count": 2,
      "outputs": [
        {
          "output_type": "stream",
          "name": "stdout",
          "text": [
            "this is function 1\n",
            "this is function 2\n",
            "this is function 3\n"
          ]
        }
      ]
    },
    {
      "cell_type": "code",
      "source": [
        "class Parent:\n",
        "      def func1(self):\n",
        "          print(\"this is function 1\")\n",
        "class Child(Parent):\n",
        "      def func2(self):\n",
        "          print(\"this is function 2\")\n",
        "class Child2(Child):\n",
        "      def func3(self):\n",
        "          print(\"this is function 3\")\n",
        "ob = Child2()\n",
        "ob.func1()\n",
        "ob.func2()\n",
        "ob.func3()"
      ],
      "metadata": {
        "colab": {
          "base_uri": "https://localhost:8080/"
        },
        "id": "64evSZyA0S98",
        "outputId": "26e7f94f-0034-4247-cc9d-7498574bea4e"
      },
      "execution_count": 4,
      "outputs": [
        {
          "output_type": "stream",
          "name": "stdout",
          "text": [
            "this is function 1\n",
            "this is function 2\n",
            "this is function 3\n"
          ]
        }
      ]
    },
    {
      "cell_type": "markdown",
      "source": [
        "***Abiove is multi level Inheritance***"
      ],
      "metadata": {
        "id": "LX6dJYNr0w1R"
      }
    },
    {
      "cell_type": "code",
      "source": [
        "class Parent:\n",
        "      def func1(self):\n",
        "          print(\"this is function 1\")\n",
        "class Child(Parent):\n",
        "      def func2(self):\n",
        "          print(\"this is function 2\")\n",
        "class Child2(Parent):\n",
        "      def func3(self):\n",
        "          print(\"this is function 3\")\n",
        " \n",
        "ob = Child()\n",
        "ob1 = Child2()\n",
        "ob.func1()\n",
        "ob.func2()"
      ],
      "metadata": {
        "colab": {
          "base_uri": "https://localhost:8080/"
        },
        "id": "naqBjeOa05YK",
        "outputId": "0c8f6621-c561-43c1-da47-4a056b9d080e"
      },
      "execution_count": 5,
      "outputs": [
        {
          "output_type": "stream",
          "name": "stdout",
          "text": [
            "this is function 1\n",
            "this is function 2\n"
          ]
        }
      ]
    },
    {
      "cell_type": "markdown",
      "source": [
        "**ABove is the Hirarcheal Inheritance**"
      ],
      "metadata": {
        "id": "oNNoAoKr0_NB"
      }
    },
    {
      "cell_type": "code",
      "source": [
        "class Parent:\n",
        "     def func1(self):\n",
        "         print(\"this is function 1\")\n",
        "class Child(Parent):\n",
        "     def func2(self):\n",
        "          super().func1()\n",
        "          print(\"this is function 2\")\n",
        " \n",
        "ob = Child()\n",
        "ob.func2()"
      ],
      "metadata": {
        "colab": {
          "base_uri": "https://localhost:8080/"
        },
        "id": "bbCNttC31FBh",
        "outputId": "be210e15-36f9-4278-d31a-b76c3b905603"
      },
      "execution_count": 7,
      "outputs": [
        {
          "output_type": "stream",
          "name": "stdout",
          "text": [
            "this is function 1\n",
            "this is function 2\n"
          ]
        }
      ]
    },
    {
      "cell_type": "markdown",
      "source": [
        "***Above is Python Super() Function***"
      ],
      "metadata": {
        "id": "BYBlcsIk1Tgr"
      }
    },
    {
      "cell_type": "code",
      "source": [
        "class Parent:\n",
        "    def func1(self):\n",
        "        print(\"this is parent function\")\n",
        " \n",
        "class Child(Parent):\n",
        "    def func1(self):\n",
        "        print(\"this is child function\")\n",
        " \n",
        "ob = Child()\n",
        "ob.func1()"
      ],
      "metadata": {
        "colab": {
          "base_uri": "https://localhost:8080/"
        },
        "id": "48kfJany1XKK",
        "outputId": "e3097a9c-5ed4-4d32-e096-1bc6b3356140"
      },
      "execution_count": 8,
      "outputs": [
        {
          "output_type": "stream",
          "name": "stdout",
          "text": [
            "this is child function\n"
          ]
        }
      ]
    },
    {
      "cell_type": "markdown",
      "source": [
        "***Above is Python Method Overriding***"
      ],
      "metadata": {
        "id": "YvIOtbVT1dbY"
      }
    },
    {
      "cell_type": "markdown",
      "source": [
        "***Types of Encapsulation***"
      ],
      "metadata": {
        "id": "cERyZMkI2Kcv"
      }
    },
    {
      "cell_type": "markdown",
      "source": [
        "***It is your job you should be doing it***"
      ],
      "metadata": {
        "id": "yJEWhV832OJi"
      }
    },
    {
      "cell_type": "markdown",
      "source": [
        "Next is the "
      ],
      "metadata": {
        "id": "k1y3oHbd2X96"
      }
    },
    {
      "cell_type": "markdown",
      "source": [
        "Types of Polymorphism\n",
        "Overloading\n",
        "Overloading may be classified into two categories.\n",
        "Operator Overloading\n",
        "Method Overloading\n",
        "Operator overloading  "
      ],
      "metadata": {
        "id": "6beGYhow2pgK"
      }
    },
    {
      "cell_type": "code",
      "source": [
        "# Operator overloading\n",
        "# Operator overloading is a kind of overloading in which an operator may be used in ways other than\n",
        "# those stated in its predefined definition.\n",
        "\n",
        "# Thus, in the first example, the multiplication operator multiplied two numbers; but, in the second, since\n",
        "# multiplication of a string and an integer is not feasible, the character is displayed three times twice.\n",
        "# Thus, it demonstrates how a single operator may be used in a variety of ways.\n",
        "# Overloading operators in practice\n",
        "# Example 1:\n",
        "class Vehicle:\n",
        "    def __init__(self, fare):\n",
        "        self.fare = fare\n",
        "bus= Vehicle(20)\n",
        "car= Vehicle(30)\n",
        "total_fare=bus+ car\n",
        "print(total_fare)"
      ],
      "metadata": {
        "colab": {
          "base_uri": "https://localhost:8080/",
          "height": 218
        },
        "id": "MpzYG-cj28Yb",
        "outputId": "39cce35f-e066-4c3e-c80c-71e1b7c5b21b"
      },
      "execution_count": 9,
      "outputs": [
        {
          "output_type": "error",
          "ename": "TypeError",
          "evalue": "ignored",
          "traceback": [
            "\u001b[0;31m---------------------------------------------------------------------------\u001b[0m",
            "\u001b[0;31mTypeError\u001b[0m                                 Traceback (most recent call last)",
            "\u001b[0;32m<ipython-input-9-f71d10574a6b>\u001b[0m in \u001b[0;36m<module>\u001b[0;34m()\u001b[0m\n\u001b[1;32m     13\u001b[0m \u001b[0mbus\u001b[0m\u001b[0;34m=\u001b[0m \u001b[0mVehicle\u001b[0m\u001b[0;34m(\u001b[0m\u001b[0;36m20\u001b[0m\u001b[0;34m)\u001b[0m\u001b[0;34m\u001b[0m\u001b[0;34m\u001b[0m\u001b[0m\n\u001b[1;32m     14\u001b[0m \u001b[0mcar\u001b[0m\u001b[0;34m=\u001b[0m \u001b[0mVehicle\u001b[0m\u001b[0;34m(\u001b[0m\u001b[0;36m30\u001b[0m\u001b[0;34m)\u001b[0m\u001b[0;34m\u001b[0m\u001b[0;34m\u001b[0m\u001b[0m\n\u001b[0;32m---> 15\u001b[0;31m \u001b[0mtotal_fare\u001b[0m\u001b[0;34m=\u001b[0m\u001b[0mbus\u001b[0m\u001b[0;34m+\u001b[0m \u001b[0mcar\u001b[0m\u001b[0;34m\u001b[0m\u001b[0;34m\u001b[0m\u001b[0m\n\u001b[0m\u001b[1;32m     16\u001b[0m \u001b[0mprint\u001b[0m\u001b[0;34m(\u001b[0m\u001b[0mtotal_fare\u001b[0m\u001b[0;34m)\u001b[0m\u001b[0;34m\u001b[0m\u001b[0;34m\u001b[0m\u001b[0m\n",
            "\u001b[0;31mTypeError\u001b[0m: unsupported operand type(s) for +: 'Vehicle' and 'Vehicle'"
          ]
        }
      ]
    },
    {
      "cell_type": "code",
      "source": [
        "# In the above example, an error occurred because Python is unable to combine two objects. In\n",
        "# this case, the item is a vehicle.\n",
        "# Now comes the time for operator overloading to be used.\n",
        "# Now we are going to overload the specific method __add__ operator."
      ],
      "metadata": {
        "id": "FmQp8q_A3aaF"
      },
      "execution_count": null,
      "outputs": []
    },
    {
      "cell_type": "code",
      "source": [
        "class Vehicle:\n",
        "  def __init__(self, fare):\n",
        "    self.fare = fare\n",
        "  def __add__(self, other):\n",
        "    # using the special function __add__ operator\n",
        "    return self.fare+ other.fare\n",
        "bus= Vehicle(20)\n",
        "car= Vehicle(30)\n",
        "total_fare=bus+ car\n",
        "print(total_fare)"
      ],
      "metadata": {
        "colab": {
          "base_uri": "https://localhost:8080/"
        },
        "id": "qH7xhx4-3dxL",
        "outputId": "21a11974-b1a2-484c-c4fe-421793a50c8f"
      },
      "execution_count": 10,
      "outputs": [
        {
          "output_type": "stream",
          "name": "stdout",
          "text": [
            "50\n"
          ]
        }
      ]
    },
    {
      "cell_type": "code",
      "source": [
        "# By overloading the special function, we declare that whenever we use the plus operator in the object\n",
        "# total_fare=bus+car, their fares will be added.\n",
        "# Example 2: In this example, let us compare the fares of several modes of transport.\n",
        "class Vehicle:\n",
        "    def __init__(self, fare):\n",
        "        self.fare = fare\n",
        "    def __lt__(self, other):\n",
        "      #  relational operator  __lt__ is used here as the special function\n",
        "        return self.fare< other.fare\n",
        "\n",
        "bus= Vehicle(10)\n",
        "car= Vehicle(30)\n",
        "compare=bus< car\n",
        "print(compare)"
      ],
      "metadata": {
        "colab": {
          "base_uri": "https://localhost:8080/"
        },
        "id": "w4cXTjre3r7b",
        "outputId": "525ca681-d000-4651-b6a2-50dc00cff470"
      },
      "execution_count": 11,
      "outputs": [
        {
          "output_type": "stream",
          "name": "stdout",
          "text": [
            "True\n"
          ]
        }
      ]
    },
    {
      "cell_type": "code",
      "source": [
        "# Method Overloading\n",
        "# Overloading a method refers to a class that has many methods with the same name but perhaps distinct\n",
        "# parameters. While Python does not natively enable method overloading, there are numerous\n",
        "# techniques to do this. While method overloading is possible, only the most recently specified methods\n",
        "# are usable.\n",
        "# Let’s try to understand with the help of an example.\n",
        "# Assume a class A, within the class we have taken a function show which has a constructor self and\n",
        "# arguments with the default value None and None. Then I created an object and executed the function\n",
        "# with the object obj.show, but I didn’t supply any arguments, despite the fact that it would display None\n",
        "# and None since we set default values in the function area.\n",
        "# Example:\n",
        "class A:\n",
        "  def show(self, a=None, b=None):\n",
        "    print(a,b)\n",
        "obj=A()\n",
        "obj.show()"
      ],
      "metadata": {
        "colab": {
          "base_uri": "https://localhost:8080/"
        },
        "id": "lZTP6U8131ab",
        "outputId": "c0223689-003f-41ca-f60d-25d15ef09c0a"
      },
      "execution_count": 12,
      "outputs": [
        {
          "output_type": "stream",
          "name": "stdout",
          "text": [
            "None None\n"
          ]
        }
      ]
    },
    {
      "cell_type": "code",
      "source": [
        "class A:\n",
        "  def show(self, a=None, b=None):\n",
        "    print(a,b)\n",
        "obj=A()\n",
        "obj.show()\n",
        "obj.show(4)"
      ],
      "metadata": {
        "colab": {
          "base_uri": "https://localhost:8080/"
        },
        "id": "TCBGLRTP39WJ",
        "outputId": "85ba7439-41e9-4ab6-b977-e573cce9b73a"
      },
      "execution_count": 13,
      "outputs": [
        {
          "output_type": "stream",
          "name": "stdout",
          "text": [
            "None None\n",
            "4 None\n"
          ]
        }
      ]
    },
    {
      "cell_type": "code",
      "source": [
        "# The None value supplied to an in the function portion is substituted with 4 in the output. Part 4 is given\n",
        "# as an argument to the function call.\n",
        "# Now, let’s examine what happens if we send two arguments to the function call in the following example.\n",
        "# Example:\n",
        "class A:\n",
        "  def show(self, a=None, b=None):\n",
        "    print(a,b)\n",
        "obj=A()\n",
        "obj.show()\n",
        "obj.show(4)\n",
        "obj.show(4,5)"
      ],
      "metadata": {
        "id": "W7YdbV8y4FIj"
      },
      "execution_count": null,
      "outputs": []
    }
  ]
}